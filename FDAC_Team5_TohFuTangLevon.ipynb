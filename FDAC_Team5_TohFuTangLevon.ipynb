{
 "cells": [
  {
   "cell_type": "markdown",
   "id": "ba49d830-141c-45fb-9720-4992ceca9a31",
   "metadata": {},
   "source": [
    "# **The 3 key features of this project are**\n",
    "\n",
    "## 1) Gender & GPA Diversity: Groups are first separated by gender, then sorted by GPA in descending order for one gender and ascending order for the other. This ensures that the first two members in each group are diverse in both GPA and gender, promoting balanced diversity from the start.\n",
    "\n",
    "## 2) Alternating Grouping: The gender-separated groups are recombined in alternating order, ensuring gender and CGPA diversity within the final list.\n",
    "\n",
    "## 3) Dynamic School Inequality Adjustment: To handle school distribution differences across batches, the school inequality is raised to a variable power that adjusts according to the batch’s school distribution, ensuring fair representation across diverse batches."
   ]
  },
  {
   "cell_type": "markdown",
   "id": "32c1aacb",
   "metadata": {},
   "source": [
    "<img src=\"assets\\Explanation\\1. Intro.png\" width=750px>"
   ]
  },
  {
   "cell_type": "markdown",
   "id": "06bb9f3b-3d24-405f-b4af-551bf8494848",
   "metadata": {},
   "source": [
    "<img src=\"assets\\Explanation\\2. Read records.csv(1).png\" width=750px>\n",
    "<img src=\"assets\\Explanation\\2. Read records.csv(2).png\" width=750px>\n",
    "\n"
   ]
  },
  {
   "cell_type": "code",
   "execution_count": 1,
   "id": "75aa46e0-40f7-4ec5-8a58-c52efccf31c7",
   "metadata": {},
   "outputs": [],
   "source": [
    "# Create a function to read CSV file as lists\n",
    "def read_csv_to_list(file_path):\n",
    "    with open(file_path, 'r', encoding='utf-8') as file:\n",
    "        # Initialize an empty list to hold the rows\n",
    "        csv_reader = []\n",
    "        \n",
    "        # Read the file line by line\n",
    "        for line in file:\n",
    "            # Strip newline characters and split by comma\n",
    "            row = line.strip().split(',')\n",
    "            # Append the row to csv_reader\n",
    "            csv_reader.append(row)\n",
    "    \n",
    "    return csv_reader\n",
    "\n",
    "# Create a function to read CSV file as dictionaries, with column headers as keys, content in each rows as values\n",
    "def read_csv_to_dict(file_path):\n",
    "    \"\"\"Reads a CSV file and returns a list of dictionaries, simulating csv.DictReader.\"\"\"\n",
    "    with open(file_path, 'r') as file:\n",
    "        # Read all lines from the file\n",
    "        lines = file.readlines()\n",
    "\n",
    "    # Strip newline characters and split the lines into a list of lists\n",
    "    data = [line.strip().split(',') for line in lines]\n",
    "\n",
    "    # The first row is the header\n",
    "    headers = data[0]\n",
    "\n",
    "    # Create a list to hold the resulting dictionaries\n",
    "    result = []\n",
    "\n",
    "    # Iterate over the remaining rows\n",
    "    for row in data[1:]:\n",
    "        # Create a dictionary for each row\n",
    "        row_dict = {headers[i]: row[i] for i in range(len(headers))}\n",
    "        result.append(row_dict)\n",
    "\n",
    "    return result"
   ]
  },
  {
   "cell_type": "markdown",
   "id": "2fa6b4b4-93d0-4676-8c65-b8063224207f",
   "metadata": {},
   "source": [
    "<img src=\"assets\\Explanation\\2. Read records.csv(2).png\" width=750px>\n"
   ]
  },
  {
   "cell_type": "code",
   "execution_count": 2,
   "id": "7895490c-f592-46d0-a3ef-c3bd55f4274e",
   "metadata": {
    "scrolled": true
   },
   "outputs": [
    {
     "name": "stdout",
     "output_type": "stream",
     "text": [
      "['Tutorial Group', 'Student ID', 'School', 'Name', 'Gender', 'CGPA']\n",
      "['G-1', '5002', 'CCDS', 'Aarav Singh', 'Male', '4.02']\n",
      "['G-1', '3838', 'EEE', 'Aarti Nair', 'Female', '4.05']\n",
      "['G-1', '2091', 'EEE', 'Adlan Bin Rahman', 'Male', '4.2']\n",
      "['G-1', '288', 'CoB (NBS)', 'Ajay Verma', 'Male', '4.01']\n",
      "['G-1', '4479', 'CCDS', 'Amelia Kim', 'Female', '4.11']\n",
      "['G-1', '5708', 'SoH', 'Ananya Ramesh', 'Male', '4.2']\n",
      "['G-1', '4563', 'WKW SCI', 'Anjali Patel', 'Female', '4.01']\n",
      "['G-1', '3989', 'WKW SCI', 'Anthony Liu', 'Male', '4.15']\n",
      "['G-1', '2115', 'EEE', 'Anya Kumar', 'Female', '4.03']\n",
      "['G-1', '1383', 'CoB (NBS)', 'Areeba Khan', 'Female', '4.19']\n",
      "['G-1', '1417', 'CoE', 'Darren Lee', 'Male', '4.12']\n",
      "['G-1', '1075', 'CoB (NBS)', 'Felix Yip', 'Male', '4.08']\n",
      "['G-1', '3148', 'EEE', 'Gabriel Young', 'Male', '3.88']\n",
      "['G-1', '4402', 'CCDS', 'Grace Turner', 'Female', '4.08']\n",
      "['G-1', '945', 'MAE', 'Han Li', 'Female', '4.1']\n",
      "['G-1', '2230', 'CoB (NBS)', 'Harlow Wang', 'Female', '4.18']\n",
      "['G-1', '4520', 'EEE', 'Henry Foster', 'Male', '4.11']\n",
      "['G-1', '567', 'CoB (NBS)', 'Isabella Thompson', 'Female', '4.03']\n",
      "['G-1', '1841', 'MAE', 'Jett Morales', 'Male', '4.12']\n",
      "['G-1', '4576', 'EEE', 'Jie Zhang', 'Male', '4.03']\n",
      "['G-1', '5703', 'SPMS', 'Karen Lee', 'Female', '4.12']\n",
      "['G-1', '2353', 'SBS', 'Karen Wong', 'Female', '3.95']\n",
      "['G-1', '2069', 'SSS', 'Kathy Lau', 'Female', '4.48']\n",
      "['G-1', '3861', 'ASE', 'Layla Torres', 'Female', '4.52']\n",
      "['G-1', '162', 'SSS', 'Lila Patel', 'Female', '4.07']\n",
      "['G-1', '588', 'MAE', 'Lucas Walker', 'Male', '4.06']\n",
      "['G-1', '659', 'SSS', 'Maria Ivanovna', 'Female', '4.2']\n",
      "['G-1', '4820', 'CoE', 'Meera Singh', 'Female', '4.22']\n",
      "['G-1', '2151', 'EEE', 'Mei Hong', 'Female', '4.02']\n",
      "['G-1', '235', 'CCDS', 'Ming Zhang', 'Male', '4.06']\n",
      "['G-1', '527', 'EEE', 'Mohit Desai', 'Male', '4.06']\n",
      "['G-1', '1329', 'NIE', 'Nguyen Van Sam', 'Male', '3.85']\n",
      "['G-1', '5119', 'ADM', 'Nhung Vu', 'Female', '4.04']\n",
      "['G-1', '809', 'CoB (NBS)', 'Nisha Das', 'Female', '4.26']\n",
      "['G-1', '2650', 'SoH', 'Nurul Shafika', 'Female', '4.09']\n",
      "['G-1', '4657', 'SoH', 'Oleg Petrovich', 'Male', '4']\n",
      "['G-1', '2818', 'CoB (NBS)', 'Oliver Tan', 'Male', '4.09']\n",
      "['G-1', '3628', 'EEE', 'Omer Ahmed', 'Male', '4.06']\n",
      "['G-1', '1555', 'MAE', 'Prerna Gupta', 'Female', '4.04']\n",
      "['G-1', '1271', 'SSS', 'Priya Singh', 'Female', '4.17']\n",
      "['G-1', '75', 'CCDS', 'Sakina Ahmed', 'Female', '4.03']\n",
      "['G-1', '4338', 'SPMS', 'Sana Jain', 'Female', '4.22']\n",
      "['G-1', '71', 'SoH', 'Savannah Taylor', 'Female', '4.19']\n",
      "['G-1', '2776', 'CCEB', 'Siddharth Nair', 'Male', '4.14']\n",
      "['G-1', '2417', 'SSS', 'Truong Minh Chau', 'Female', '3.88']\n",
      "['G-1', '5477', 'SoH', 'Vikram Desai', 'Male', '4.09']\n",
      "['G-1', '2326', 'CoB (NBS)', 'Vivi Dwi', 'Female', '3.95']\n",
      "['G-1', '3930', 'EEE', 'Xun Wei', 'Female', '4.18']\n",
      "['G-1', '1645', 'CoE', 'Zachary Wu', 'Male', '3.93']\n",
      "['G-1', '592', 'MSE', 'Zara Chang', 'Female', '4.11']\n",
      "['G-10', '3329', 'MAE', 'Adrian Castillo', 'Male', '4.07']\n"
     ]
    }
   ],
   "source": [
    "# Define the path to your CSV file\n",
    "file_path = 'assets/records.csv'  \n",
    "\n",
    "# Read the CSV file with the created function\n",
    "csv_reader = read_csv_to_list(file_path)\n",
    "\n",
    "# Read and print each row (for demonstration)\n",
    "num_of_rows = 0\n",
    "for row in csv_reader:\n",
    "    if num_of_rows<52:\n",
    "        print(row)  # You can process each row here\n",
    "        num_of_rows+=1\n",
    "    else:\n",
    "        break"
   ]
  },
  {
   "cell_type": "markdown",
   "id": "de0bdc46-9d2a-40ca-b97f-079a24467d65",
   "metadata": {},
   "source": [
    "<img src=\"assets\\Explanation\\4. Collect tutorial groups.png\" width=750px>"
   ]
  },
  {
   "cell_type": "code",
   "execution_count": 3,
   "id": "c28d699e-c8d6-4c36-b8fc-88edaef22238",
   "metadata": {},
   "outputs": [],
   "source": [
    "# Step 1: Read CSV and collect distinct tutorial groups\n",
    "tutorial_groups = set()  # Use a set to ensure unique values\n",
    "\n",
    "dict_reader = read_csv_to_dict(file_path)\n",
    "for row in dict_reader:\n",
    "    tutorial_groups.add(row['Tutorial Group'])  # Add each tutorial group to the set\n",
    "        \n",
    "# Step 2: Initialize dictionary with tutorial groups as keys and 10 empty lists as values\n",
    "tutorial_groupings_dict = {group: [[] for _ in range(10)] for group in tutorial_groups}\n",
    "#print(tutorial_groupings_dict)"
   ]
  },
  {
   "cell_type": "markdown",
   "id": "f0c01327-023a-4c36-9f8a-2160a3685252",
   "metadata": {},
   "source": [
    "<img src=\"assets\\Explanation\\5. Convert to indexed dictionary.png\" width=750px>\n"
   ]
  },
  {
   "cell_type": "code",
   "execution_count": 4,
   "id": "f6fcec3a-22ce-40af-8a48-de91e8fdf30a",
   "metadata": {},
   "outputs": [],
   "source": [
    "# Function to convert CSV to a dictionary with row index as keys\n",
    "def csv_to_indexed_dict(csv_file):\n",
    "    data_dict = {}\n",
    "    \n",
    "    reader = read_csv_to_dict(csv_file)\n",
    "    # Loop through each row and index it starting from 0 (or 1)\n",
    "    for index, row in enumerate(reader, start=0):  # Start index from 0, or change to start=1 if you prefer\n",
    "        data_dict[index] = row\n",
    "    \n",
    "    return data_dict\n",
    "\n",
    "# Example usage\n",
    "csv_file = 'assets/records.csv'  # Replace with your CSV file name\n",
    "records_indexed_dict = csv_to_indexed_dict(csv_file)\n",
    "#print(records_indexed_dict)\n",
    "#records_indexed_dict"
   ]
  },
  {
   "cell_type": "markdown",
   "id": "403d750e-7f68-4555-b3fd-fdf2085d5f28",
   "metadata": {},
   "source": [
    "<img src=\"assets\\Explanation\\6. Gini coefficienct gender(1).png\" width=750px>\n",
    "<img src=\"assets\\Explanation\\6. Gini coefficienct gender(2).png\" width=750px>\n"
   ]
  },
  {
   "cell_type": "code",
   "execution_count": 5,
   "id": "050e0e22-9b5d-4e53-8423-718f13ebf653",
   "metadata": {},
   "outputs": [],
   "source": [
    "def calculate_gini_coefficient_gender(males, females):\n",
    "    total_people = males + females\n",
    "    \n",
    "    if total_people == 0:\n",
    "        return 0.0  # To avoid division by zero\n",
    "    \n",
    "    gender_counts = [males, females]\n",
    "    n = len(gender_counts)\n",
    "    \n",
    "    # Calculate Gini coefficient\n",
    "    numerator = 0\n",
    "    for i in range(n):\n",
    "        for j in range(n):\n",
    "            numerator += abs(gender_counts[i] - gender_counts[j])\n",
    "    \n",
    "    gini_coefficient = numerator / (2 * total_people * total_people)\n",
    "    penalty_factor=2*total_people**4\n",
    "    gini_coefficient=gini_coefficient+penalty_factor\n",
    "\n",
    "    return gini_coefficient"
   ]
  },
  {
   "cell_type": "markdown",
   "id": "2e7975a0-4514-4d5f-90f2-d6b61c3024e0",
   "metadata": {},
   "source": [
    "<img src=\"assets\\Explanation\\7. Gini coefficient school (1).png\" width=750px>\n",
    "<img src=\"assets\\Explanation\\7. Gini coefficient school (2).png\" width=750px>\n"
   ]
  },
  {
   "cell_type": "code",
   "execution_count": 6,
   "id": "edbef06a-f57c-4e65-9814-4a82ed7a3b78",
   "metadata": {},
   "outputs": [],
   "source": [
    "def calculate_gini_coefficient_school(school_dict):\n",
    "    # Extract the number of students\n",
    "    student_counts = list(school_dict.values())\n",
    "    n = len(student_counts)\n",
    "    \n",
    "    if n == 0:\n",
    "        return 0.0  # No schools\n",
    "    \n",
    "    # Calculate the mean number of students\n",
    "    mean_students = sum(student_counts) / n\n",
    "\n",
    "    # Calculate the Gini coefficient\n",
    "    numerator = 0\n",
    "    for i in range(n):\n",
    "        for j in range(n):\n",
    "            numerator += abs(student_counts[i] - student_counts[j])\n",
    "    \n",
    "    gini_coefficient = numerator / (2 * n * sum(student_counts))\n",
    "    penalty_factor=2*n**2\n",
    "    gini_coefficient=gini_coefficient+penalty_factor\n",
    "    \n",
    "    return gini_coefficient"
   ]
  },
  {
   "cell_type": "markdown",
   "id": "97b0e5f3-a593-4dcd-8a24-874534bbea29",
   "metadata": {},
   "source": [
    "<img src=\"assets\\Explanation\\8. Gini coefficient school no penalty (1).png\" width=750px>\n",
    "<img src=\"assets\\Explanation\\8. Gini coefficient school no penalty (2).png\" width=750px>\n",
    "."
   ]
  },
  {
   "cell_type": "code",
   "execution_count": 7,
   "id": "344d5ba4-de52-4897-8ce1-59b539172e0d",
   "metadata": {},
   "outputs": [],
   "source": [
    "def calculate_gini_coefficient_school_no_penalty(school_dict):\n",
    "    # Extract the number of students\n",
    "    student_counts = list(school_dict.values())\n",
    "    n = len(student_counts)\n",
    "    \n",
    "    if n == 0:\n",
    "        return 0.0  # No schools\n",
    "    \n",
    "    # Calculate the mean number of students\n",
    "    mean_students = sum(student_counts) / n\n",
    "\n",
    "    # Calculate the Gini coefficient\n",
    "    numerator = 0\n",
    "    for i in range(n):\n",
    "        for j in range(n):\n",
    "            numerator += abs(student_counts[i] - student_counts[j])\n",
    "    \n",
    "    gini_coefficient = numerator / (2 * n * sum(student_counts))\n",
    "    \n",
    "    return gini_coefficient"
   ]
  },
  {
   "cell_type": "markdown",
   "id": "42e47082-ea76-4767-84de-519186d4e59f",
   "metadata": {},
   "source": [
    "<img src=\"assets\\Explanation\\9. Gini coefficient cgpa (1).png\" width=750px>\n",
    "<img src=\"assets\\Explanation\\9. Gini coefficient cgpa (2).png\" width=750px>\n",
    "\n"
   ]
  },
  {
   "cell_type": "code",
   "execution_count": 8,
   "id": "e8dc6080-5a82-4325-a3ff-e047e8290c40",
   "metadata": {},
   "outputs": [],
   "source": [
    "def calculate_gini_coefficient_cgpa(cgpas):\n",
    "    n = len(cgpas)\n",
    "    \n",
    "    if n == 0:\n",
    "        return 0.0  # No CGPAs\n",
    "    cgpas=[float(ele)for ele in cgpas]\n",
    "    # Calculate the mean CGPA\n",
    "    mean_cgpa = sum(cgpas) / n\n",
    "\n",
    "    # Calculate the Gini coefficient\n",
    "    numerator = 0\n",
    "    for i in range(n):\n",
    "        for j in range(n):\n",
    "            numerator += abs(cgpas[i] - cgpas[j])\n",
    "    \n",
    "    gini_coefficient = numerator / (2 * n * sum(cgpas))\n",
    "    penalty_factor=2*n**2\n",
    "    gini_coefficient=gini_coefficient+penalty_factor\n",
    "\n",
    "    return gini_coefficient\n"
   ]
  },
  {
   "cell_type": "markdown",
   "id": "c3ffa315-8393-4355-9b66-035d857bd22d",
   "metadata": {},
   "source": [
    "<img src=\"assets\\Explanation\\10. Calculate stats (1).png\" width=750px>\n",
    "<img src=\"assets\\Explanation\\10. Calculate stats (2).png\" width=750px>\n"
   ]
  },
  {
   "cell_type": "code",
   "execution_count": 9,
   "id": "ac0b3951-2df5-4fa0-8a89-98ba09a45fee",
   "metadata": {},
   "outputs": [],
   "source": [
    "def calculate_stats(list_of_students,school_inequality):\n",
    "    M=0\n",
    "    F=0\n",
    "    schools={}\n",
    "    CGPA=[]\n",
    "    for student in list_of_students:\n",
    "        if student['Gender']=='Male':\n",
    "            M+=1\n",
    "        else:\n",
    "            F+=1\n",
    "        if student['School'] in schools.keys():\n",
    "            schools[student['School']]=schools[student['School']]+1\n",
    "        else:\n",
    "            schools[student['School']]=1\n",
    "        CGPA.append(student['CGPA'])\n",
    "        \n",
    "    G=calculate_gini_coefficient_gender(M,F)**3\n",
    "    S=calculate_gini_coefficient_school(schools)**(3*school_inequality)\n",
    "    C=calculate_gini_coefficient_cgpa(CGPA)**2\n",
    "    final=0.4*G+0.4*S+0.2*C\n",
    "    return final\n",
    "    \n"
   ]
  },
  {
   "cell_type": "markdown",
   "id": "892690b4-fd13-4dcc-a89b-23fa57e4ddf4",
   "metadata": {},
   "source": [
    "<img src=\"assets\\Explanation\\11. Merge dictionaries (1).png\" width=750px>\n",
    "<img src=\"assets\\Explanation\\11. Merge dictionaries (2).png\" width=300px>\n",
    "<img src=\"assets\\Explanation\\11. Merge dictionaries (3).png\" width=750px>\n"
   ]
  },
  {
   "cell_type": "code",
   "execution_count": 10,
   "id": "ace652c1-c0ee-4ee0-9495-1a7e3e2212d2",
   "metadata": {},
   "outputs": [],
   "source": [
    "def merge_dictionaries(dict1, dict2):\n",
    "    # Create a list to hold the values in alternating order\n",
    "    values_list = []\n",
    "\n",
    "    # Get the maximum length of the two dictionaries\n",
    "    max_length = max(len(dict1), len(dict2))\n",
    "\n",
    "    # Iterate through the range of maximum length\n",
    "    for i in range(max_length):\n",
    "        if i < len(dict1):  # Check if index is valid for dict1\n",
    "            values_list.append(dict1[list(dict1.keys())[i]])\n",
    "        \n",
    "        if i < len(dict2):  # Check if index is valid for dict2\n",
    "            values_list.append(dict2[list(dict2.keys())[i]])\n",
    "\n",
    "    # Convert the list to a new dictionary with new index as the key\n",
    "    new_dict = {index: value for index, value in enumerate(values_list)}\n",
    "\n",
    "    # Get the number of key-value pairs\n",
    "    num_pairs = len(new_dict)\n",
    "\n",
    "    return new_dict, num_pairs"
   ]
  },
  {
   "cell_type": "markdown",
   "id": "f967cfe2-bc88-4b0b-9abb-28f02ddb5a75",
   "metadata": {},
   "source": [
    "<img src=\"assets\\Explanation\\12. Sorter.png\" width=750px>\n"
   ]
  },
  {
   "cell_type": "code",
   "execution_count": 11,
   "id": "26b02166-dc33-4efc-a136-8122bb698a8e",
   "metadata": {},
   "outputs": [
    {
     "data": {
      "text/plain": [
       "'\\n# Sort in ascending order\\nsorted_student_dict_ascending = sorter(student_dict)\\n\\n# Sort in descending order\\nsorted_student_dict_descending = sorter(student_dict, descending=True)\\n\\n'"
      ]
     },
     "execution_count": 11,
     "metadata": {},
     "output_type": "execute_result"
    }
   ],
   "source": [
    "# Create a function to sort students by CGPA in dictionary, bubble sort is employed\n",
    "def sorter(student_dict, descending=False):\n",
    "    \"\"\"\n",
    "    Sort a dictionary of students by CGPA using bubble sort.\n",
    "\n",
    "    Parameters:\n",
    "    student_dict (dict): A dictionary where keys are student IDs and values are dictionaries with student info.\n",
    "    descending (bool): If True, sort in descending order; otherwise, sort in ascending order.\n",
    "\n",
    "    Returns:\n",
    "    dict: A new dictionary sorted by CGPA.\n",
    "    \"\"\"\n",
    "    # Convert the dictionary items to a list of tuples for sorting\n",
    "    items = list(student_dict.items())\n",
    "    n = len(items)\n",
    "\n",
    "    # Bubble sort algorithm\n",
    "    for i in range(n):\n",
    "        for j in range(0, n-i-1):\n",
    "            # Compare CGPA values of adjacent items based on the desired order\n",
    "            if (not descending and items[j][1][\"CGPA\"] > items[j + 1][1][\"CGPA\"]) or \\\n",
    "               (descending and items[j][1][\"CGPA\"] < items[j + 1][1][\"CGPA\"]):\n",
    "                # Swap if the current item is out of order\n",
    "                items[j], items[j + 1] = items[j + 1], items[j]\n",
    "\n",
    "    # Convert the sorted list of tuples back into a dictionary\n",
    "    sorted_dict = {key: value for key, value in items}\n",
    "    return sorted_dict\n",
    "\n",
    "\n",
    "#Guide to Use\n",
    "'''\n",
    "# Sort in ascending order\n",
    "sorted_student_dict_ascending = sorter(student_dict)\n",
    "\n",
    "# Sort in descending order\n",
    "sorted_student_dict_descending = sorter(student_dict, descending=True)\n",
    "\n",
    "'''\n"
   ]
  },
  {
   "cell_type": "markdown",
   "id": "30d38c17-87d9-4d65-bb8d-e42f2c1b16b4",
   "metadata": {},
   "source": [
    "<img src=\"assets\\Explanation\\13. Insert initial (1).png\" width=750px>\n",
    "<img src=\"assets\\Explanation\\13. Insert initial (2).png\" width=750px>\n",
    "<img src=\"assets\\Explanation\\13. Insert initial (3).png\" width=750px>\n",
    "<img src=\"assets\\Explanation\\13. Insert initial (4).jpg\" width=750px>\n",
    "<img src=\"assets\\Explanation\\13. Insert initial (5).png\" width=750px>"
   ]
  },
  {
   "cell_type": "code",
   "execution_count": 12,
   "id": "50173355-88a6-42bd-8059-6f26a9d3649b",
   "metadata": {},
   "outputs": [],
   "source": [
    "def insert_initial(batch,records_indexed_dict_copy,tutorial_groupings_dict_copy):\n",
    "    starting_index=(batch-1)*50\n",
    "    ending_index=batch*50\n",
    "    tut_grp=records_indexed_dict_copy[starting_index]['Tutorial Group']\n",
    "    batch_records_indexed_dict_copy = {k: v for k, v in records_indexed_dict_copy.items() if starting_index <= k < ending_index}\n",
    "    schools={}\n",
    "    for key, value in batch_records_indexed_dict_copy.items():\n",
    "        # Extract the value for the \"scholl\" key in the nested dictionary\n",
    "        school = value.get('School')\n",
    "        if school in schools.keys():\n",
    "            schools[school]=schools[school]+1\n",
    "        else:\n",
    "            schools[school]=1\n",
    "    school_inequality=calculate_gini_coefficient_school_no_penalty(schools)\n",
    "    males_batch_records_indexed_dict_copy = {k: v for k, v in batch_records_indexed_dict_copy.items() if v['Gender'] == 'Male'}\n",
    "    females_batch_records_indexed_dict_copy = {k: v for k, v in batch_records_indexed_dict_copy.items() if v['Gender'] == 'Female'}\n",
    "    descending_males_batch_records_indexed_dict_copy = sorter(males_batch_records_indexed_dict_copy)\n",
    "    descending_males_batch_records_indexed_dict_copy = {index: value for index, (_, value) in enumerate(descending_males_batch_records_indexed_dict_copy.items())}\n",
    "    ascending_females_batch_records_indexed_dict_copy = sorter(females_batch_records_indexed_dict_copy,descending = True)\n",
    "    ascending_females_batch_records_indexed_dict_copy = {index: value for index, (_, value) in enumerate(ascending_females_batch_records_indexed_dict_copy.items())}\n",
    "    for i in range(0,10):\n",
    "        tutorial_groupings_dict_copy[tut_grp][i].append(descending_males_batch_records_indexed_dict_copy[i])\n",
    "        tutorial_groupings_dict_copy[tut_grp][i].append(ascending_females_batch_records_indexed_dict_copy[i])\n",
    "    remaining_descending_males_batch_records_indexed_dict_copy = {k: v for k, v in descending_males_batch_records_indexed_dict_copy.items() if k not in range(10)}\n",
    "    remaining_ascending_females_batch_records_indexed_dict_copy = {k: v for k, v in ascending_females_batch_records_indexed_dict_copy.items() if k not in range(10)}\n",
    "    return tutorial_groupings_dict_copy,remaining_descending_males_batch_records_indexed_dict_copy,remaining_ascending_females_batch_records_indexed_dict_copy,tut_grp,school_inequality"
   ]
  },
  {
   "cell_type": "markdown",
   "id": "32f20c95-05a8-43e6-91ab-239f9c266ba6",
   "metadata": {},
   "source": [
    "<img src=\"assets\\Explanation\\14. Insert Rest (1).png\" width=680px>\n",
    "<img src=\"assets\\Explanation\\14. Insert Rest (2).png\" width=750px>\n",
    "<img src=\"assets\\Explanation\\14. Insert Rest (3).png\" width=750px>\n",
    "<img src=\"assets\\Explanation\\14. Insert Rest (4).png\" width=750px>\n",
    "<img src=\"assets\\Explanation\\14. Insert Rest (5).png\" width=500px>\n",
    "<img src=\"assets\\Explanation\\14. Insert Rest (6).png\" width=750px>\n"
   ]
  },
  {
   "cell_type": "code",
   "execution_count": 13,
   "id": "dedbf246-8622-449d-aeb1-6bbdb83f9fcf",
   "metadata": {},
   "outputs": [],
   "source": [
    "def insert_rest(tut_grp,tutorial_groupings_dict_copy,males,females,school_inequality):\n",
    "    remaining,amt=merge_dictionaries(males,females)\n",
    "    for i in range(amt):\n",
    "        #print(f\"Right now we are at student {i+1}\")\n",
    "        student=remaining[i]\n",
    "        change=[]\n",
    "        for j in range(10):\n",
    "            if len(tutorial_groupings_dict_copy[tut_grp][j])<5:\n",
    "                old_score=calculate_stats(tutorial_groupings_dict_copy[tut_grp][j],school_inequality)\n",
    "                new_students=tutorial_groupings_dict_copy[tut_grp][j].copy()\n",
    "                new_students.append(student)\n",
    "                new_score=calculate_stats(new_students,school_inequality)\n",
    "                change_in_score=new_score-old_score\n",
    "                change.append(change_in_score)\n",
    "            else:\n",
    "                change.append(9999999999999999)\n",
    "        group=change.index(min(change))\n",
    "        #print(f\"The change is {change}\")\n",
    "        #print(f\"We add this student to group {group}\")\n",
    "        tutorial_groupings_dict_copy[tut_grp][group].append(student)\n",
    "    return tutorial_groupings_dict_copy\n",
    "    "
   ]
  },
  {
   "cell_type": "markdown",
   "id": "9a8b03d1-e462-43c3-8181-e2a84e9df23c",
   "metadata": {},
   "source": [
    "<img src=\"assets\\Explanation\\15. Sort-output function.png\" width=750px>\n"
   ]
  },
  {
   "cell_type": "code",
   "execution_count": 14,
   "id": "5facd208-fbee-4478-901a-f9b42fa2f1c1",
   "metadata": {
    "scrolled": true
   },
   "outputs": [],
   "source": [
    "def sort(num_batch,tutorial_groupings_dict,records_indexed_dict):\n",
    "    tutorial_groupings_dict_copy=tutorial_groupings_dict\n",
    "    records_indexed_dict_copy=records_indexed_dict\n",
    "    batch=1\n",
    "    while batch<num_batch+1:\n",
    "        tutorial_groupings_dict_copy,remaining_batch_males,remaining_batch_females,tut_grp,school_inequality=insert_initial(batch,records_indexed_dict_copy,tutorial_groupings_dict_copy)\n",
    "        tutorial_groupings_dict_copy=insert_rest(tut_grp,tutorial_groupings_dict_copy,remaining_batch_males,remaining_batch_females,school_inequality) \n",
    "        #print(f\"Batch {batch} is done for tutorial group {tut_grp}\")\n",
    "        batch+=1 \n",
    "    return tutorial_groupings_dict\n",
    "\n",
    "output=sort(120,tutorial_groupings_dict,records_indexed_dict)\n",
    "#print(output)\n"
   ]
  },
  {
   "cell_type": "markdown",
   "id": "f83f6706-51bc-4760-aa29-5f73e40feb04",
   "metadata": {},
   "source": [
    "<img src=\"assets\\Explanation\\16. Evaluation (1).png\" width=750px>\n"
   ]
  },
  {
   "cell_type": "code",
   "execution_count": 15,
   "id": "e85cc489-7d58-44e6-a59d-3073829d8a22",
   "metadata": {},
   "outputs": [
    {
     "data": {
      "text/plain": [
       "5"
      ]
     },
     "execution_count": 15,
     "metadata": {},
     "output_type": "execute_result"
    }
   ],
   "source": [
    "check_group = \"G-88\"\n",
    "len(output[check_group][0])"
   ]
  },
  {
   "cell_type": "code",
   "execution_count": 16,
   "id": "3fb8701d-543c-4418-a114-8de3b2e7a001",
   "metadata": {},
   "outputs": [
    {
     "name": "stdout",
     "output_type": "stream",
     "text": [
      "5\n",
      "5\n",
      "5\n",
      "5\n",
      "5\n",
      "5\n",
      "5\n",
      "5\n",
      "5\n",
      "5\n"
     ]
    }
   ],
   "source": [
    "for j in range(10):\n",
    "    print(len(output[check_group][j]))"
   ]
  },
  {
   "cell_type": "markdown",
   "id": "ddb82511-7462-4d8a-9d6c-39d81c0398d6",
   "metadata": {},
   "source": [
    "<img src=\"assets\\Explanation\\16. Evaluation (2).png\" width=750px>\n"
   ]
  },
  {
   "cell_type": "code",
   "execution_count": 17,
   "id": "4063299a-c7a0-4122-a071-3303145f1596",
   "metadata": {},
   "outputs": [
    {
     "name": "stdout",
     "output_type": "stream",
     "text": [
      "[3, 3, 3, 3, 3, 2, 3, 2, 2, 3]\n"
     ]
    }
   ],
   "source": [
    "def count_males_in_nested_lists(data):\n",
    "    male_counts = []\n",
    "    \n",
    "    # Iterate over each nested list\n",
    "    for nested_list in data:\n",
    "        # Count dictionaries with \"Gender\" equal to \"Male\"\n",
    "        male_count = sum(1 for d in nested_list if d.get('Gender') == 'Male')\n",
    "        male_counts.append(male_count)\n",
    "    \n",
    "    return male_counts\n",
    "\n",
    "\n",
    "\n",
    "result = count_males_in_nested_lists(output[check_group])\n",
    "print(result)  # This will give you a list with the count of \"Male\" in each nested list\n"
   ]
  },
  {
   "cell_type": "markdown",
   "id": "2e28ec2a-0f81-472e-bb02-9e4e55d69960",
   "metadata": {},
   "source": [
    "<img src=\"assets\\Explanation\\16. Evaluation (3).png\" width=750px>\n"
   ]
  },
  {
   "cell_type": "code",
   "execution_count": 18,
   "id": "8220067f-bbd3-49d4-a806-e95898dccce6",
   "metadata": {},
   "outputs": [
    {
     "name": "stdout",
     "output_type": "stream",
     "text": [
      "List 1: Counter({'EEE': 3, 'ADM': 1, 'CoB (NBS)': 1})\n",
      "List 2: Counter({'MSE': 2, 'CoB (NBS)': 2, 'EEE': 1})\n",
      "List 3: Counter({'CCEB': 2, 'CCDS': 1, 'SBS': 1, 'CoE': 1})\n",
      "List 4: Counter({'SoH': 2, 'CCDS': 1, 'EEE': 1, 'CoB (NBS)': 1})\n",
      "List 5: Counter({'CoE': 2, 'CCEB': 2, 'NIE': 1})\n",
      "List 6: Counter({'SoH': 3, 'SSS': 1, 'LKCMedicine': 1})\n",
      "List 7: Counter({'CCEB': 2, 'MAE': 2, 'SPMS': 1})\n",
      "List 8: Counter({'CCDS': 2, 'CEE': 1, 'WKW SCI': 1, 'EEE': 1})\n",
      "List 9: Counter({'CoB (NBS)': 3, 'EEE': 2})\n",
      "List 10: Counter({'MAE': 3, 'SBS': 2})\n"
     ]
    }
   ],
   "source": [
    "from collections import Counter\n",
    "\n",
    "def count_schools_in_nested_lists(data):\n",
    "    school_counts_list = []\n",
    "    \n",
    "    # Iterate over each nested list\n",
    "    for nested_list in data:\n",
    "        # Extract the \"School\" values and count their occurrences\n",
    "        school_counter = Counter(d.get('School') for d in nested_list if 'School' in d)\n",
    "        school_counts_list.append(school_counter)\n",
    "    \n",
    "    return school_counts_list\n",
    "\n",
    "\n",
    "\n",
    "result = count_schools_in_nested_lists(output[check_group])\n",
    "for i, school_count in enumerate(result):\n",
    "    print(f\"List {i+1}: {school_count}\")\n"
   ]
  },
  {
   "cell_type": "markdown",
   "id": "3ab26b8e-baf1-405b-83dd-7cf71878822a",
   "metadata": {},
   "source": [
    "<img src=\"assets\\Explanation\\16. Evaluation (4).png\" width=750px>\n",
    "<img src=\"assets\\Explanation\\16. Evaluation (5).png\" width=750px>"
   ]
  },
  {
   "cell_type": "code",
   "execution_count": 19,
   "id": "e7573c3d-a9ac-4098-8bb5-af7c5745c267",
   "metadata": {
    "scrolled": true
   },
   "outputs": [
    {
     "name": "stdout",
     "output_type": "stream",
     "text": [
      "Standard deviation of list 1: 0.14\n",
      "Standard deviation of list 2: 0.13\n",
      "Standard deviation of list 3: 0.11\n",
      "Standard deviation of list 4: 0.10\n",
      "Standard deviation of list 5: 0.08\n",
      "Standard deviation of list 6: 0.08\n",
      "Standard deviation of list 7: 0.06\n",
      "Standard deviation of list 8: 0.05\n",
      "Standard deviation of list 9: 0.06\n",
      "Standard deviation of list 10: 0.06\n"
     ]
    }
   ],
   "source": [
    "import math\n",
    "\n",
    "def calculate_standard_deviation(data):\n",
    "    # Function to calculate standard deviation\n",
    "    n = len(data)\n",
    "    mean = sum(data) / n\n",
    "    variance = sum((x - mean) ** 2 for x in data) / n\n",
    "    return math.sqrt(variance)\n",
    "\n",
    "# List to store standard deviations\n",
    "std_devs = []\n",
    "\n",
    "# Calculate standard deviation for each of the 10 lists\n",
    "for sublist in output[check_group]:\n",
    "    cgpa_values = [float(d['CGPA']) for d in sublist]\n",
    "    std_dev = calculate_standard_deviation(cgpa_values)\n",
    "    std_devs.append(std_dev)\n",
    "\n",
    "# Output the results\n",
    "for index, std_dev in enumerate(std_devs, 1):\n",
    "    print(f\"Standard deviation of list {index}: {std_dev:.2f}\")"
   ]
  },
  {
   "cell_type": "markdown",
   "id": "1c64593a-c46b-479d-b3c4-d1e49dde80e5",
   "metadata": {},
   "source": [
    "__Distribution Charts__\n",
    "\n",
    "<img src=\"assets\\Explanation\\16. Evaluation (6).png\" width=750px>\n",
    "<img src=\"assets\\Explanation\\16. Evaluation (7).png\" width=750px>\n",
    "<img src=\"assets\\Explanation\\16. Evaluation (8).png\" width=750px>"
   ]
  },
  {
   "cell_type": "markdown",
   "id": "877e7939-a7cd-4fa4-a306-fd394dead4ab",
   "metadata": {},
   "source": [
    "<img src=\"assets\\Explanation\\17. Export.png\" width=750px>"
   ]
  },
  {
   "cell_type": "code",
   "execution_count": 20,
   "id": "e0ebef34-c11c-4ee8-bbc6-2674d1c87883",
   "metadata": {},
   "outputs": [],
   "source": [
    "# Define the CSV file name\n",
    "csv_file = 'FDAC_Team5_TohFuTangLevon.csv'\n",
    "\n",
    "# Define the column headers\n",
    "column_headers = [\"Tutorial Group\", \"Student ID\", \"School\", \"Name\", \"Gender\", \"CGPA\", \"Team Assigned\"]\n",
    "\n",
    "# Open the CSV file for writing\n",
    "with open(csv_file, mode='w') as file:\n",
    "    # Write the column headers\n",
    "    file.write(','.join(column_headers) + '\\n')\n",
    "    \n",
    "    # Sort the tutorial groups using a custom key\n",
    "    sorted_keys = sorted(output.keys(), key=lambda x: int(x.split('-')[1]))\n",
    "    \n",
    "    for tutorial_group in sorted_keys:\n",
    "        teams = output[tutorial_group]\n",
    "        # Loop through each team and keep track of the team number\n",
    "        for team_number, team in enumerate(teams, start=1):\n",
    "            # Loop through each student in the team\n",
    "            for student in team:\n",
    "                # Create a row with student details, including the team number\n",
    "                row = [\n",
    "                    tutorial_group,\n",
    "                    student['Student ID'],\n",
    "                    student['School'],\n",
    "                    student['Name'],\n",
    "                    student['Gender'],\n",
    "                    student['CGPA'],\n",
    "                    team_number\n",
    "                ]\n",
    "                # Write the row to the CSV file\n",
    "                file.write(','.join(map(str, row)) + '\\n')"
   ]
  }
 ],
 "metadata": {
  "kernelspec": {
   "display_name": "base",
   "language": "python",
   "name": "python3"
  },
  "language_info": {
   "codemirror_mode": {
    "name": "ipython",
    "version": 3
   },
   "file_extension": ".py",
   "mimetype": "text/x-python",
   "name": "python",
   "nbconvert_exporter": "python",
   "pygments_lexer": "ipython3",
   "version": "3.11.5"
  }
 },
 "nbformat": 4,
 "nbformat_minor": 5
}
